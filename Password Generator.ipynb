{
 "cells": [
  {
   "cell_type": "markdown",
   "id": "1dfeb3f6",
   "metadata": {},
   "source": [
    "# Task 2 : Random Password Generator By Krima Vadodariya"
   ]
  },
  {
   "cell_type": "code",
   "execution_count": 1,
   "id": "d3e3232d",
   "metadata": {},
   "outputs": [],
   "source": [
    "#Import Library\n",
    "import string\n",
    "import secrets"
   ]
  },
  {
   "cell_type": "code",
   "execution_count": 2,
   "id": "3ee7670f",
   "metadata": {},
   "outputs": [
    {
     "name": "stdout",
     "output_type": "stream",
     "text": [
      "Random Password Generator\n",
      "****************************************\n",
      "Enter the length of the password [9-32] (default: 16): 12\n",
      "Include special characters? [Yes/No]: no\n",
      "Generated Password: tC6K0Etnq1\n"
     ]
    }
   ],
   "source": [
    "def generate_password(length: int, special_characters: bool):\n",
    "    # Internal password constraints\n",
    "    K_digits = length // 4\n",
    "    K_special_characters = length // 5\n",
    "    K_letters = length - (K_digits + K_special_characters)\n",
    "    K_uppercase, K_lowercase = K_letters // 3, K_letters // 3\n",
    "    K_letters -= K_uppercase + K_lowercase\n",
    "    \n",
    "    \n",
    "    pool = (\n",
    "        \"\".join(secrets.choice(string.ascii_uppercase) for _ in range(K_uppercase))\n",
    "        + \"\".join(secrets.choice(string.ascii_lowercase) for _ in range(K_lowercase))\n",
    "        + \"\".join(secrets.choice(string.ascii_letters) for _ in range(K_letters))\n",
    "        + \"\".join(secrets.choice(string.digits) for _ in range(K_digits))\n",
    "    )\n",
    "\n",
    "    if special_characters:\n",
    "        pool += \"\".join(\n",
    "            secrets.choice(string.punctuation) for _ in range(K_special_characters)\n",
    "        )\n",
    "\n",
    "    P_list = list(pool)\n",
    "    secrets.SystemRandom().shuffle(P_list)\n",
    "\n",
    "    return \"\".join(P_list)\n",
    "\n",
    "\n",
    "\n",
    "def main():\n",
    "    print(\"Random Password Generator\")\n",
    "    print(\"****************************************\")\n",
    "\n",
    "    P_len = input(\"Enter the length of the password [9-32] (default: 16): \").strip()\n",
    "\n",
    "    # Ensure validity of given input\n",
    "    if P_len:\n",
    "        try:\n",
    "            P_len = int(P_len)\n",
    "\n",
    "            if P_len not in range(8, 33):\n",
    "                raise ValueError\n",
    "\n",
    "        except ValueError:\n",
    "            return print(\"Invalid length entered!\")\n",
    "\n",
    "    P_sp_chr = input(\"Include special characters? [Yes/No]: \")\n",
    "\n",
    "\n",
    "    if P_sp_chr.lower() not in [\"yes\", \"no\"]:\n",
    "        return print(\"Invalid response!\")\n",
    "\n",
    "    # Generate a password per the input\n",
    "    res = generate_password(\n",
    "        length=P_len if P_len else 16,\n",
    "        special_characters=True if P_sp_chr.lower() == \"yes\" else False,\n",
    "    )\n",
    "\n",
    "    print(f\"Generated Password: {res}\")\n",
    "    \n",
    "\n",
    "\n",
    "if __name__ == \"__main__\":\n",
    "    main()\n",
    "\n",
    "    \n",
    "    "
   ]
  },
  {
   "cell_type": "code",
   "execution_count": null,
   "id": "4f8da23f",
   "metadata": {},
   "outputs": [],
   "source": []
  }
 ],
 "metadata": {
  "kernelspec": {
   "display_name": "Python 3 (ipykernel)",
   "language": "python",
   "name": "python3"
  },
  "language_info": {
   "codemirror_mode": {
    "name": "ipython",
    "version": 3
   },
   "file_extension": ".py",
   "mimetype": "text/x-python",
   "name": "python",
   "nbconvert_exporter": "python",
   "pygments_lexer": "ipython3",
   "version": "3.11.5"
  }
 },
 "nbformat": 4,
 "nbformat_minor": 5
}
